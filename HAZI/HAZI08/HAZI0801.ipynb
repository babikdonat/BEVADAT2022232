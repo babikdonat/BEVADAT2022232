{
 "cells": [
  {
   "cell_type": "code",
   "execution_count": 8,
   "metadata": {},
   "outputs": [],
   "source": [
    "import numpy as np\n",
    "import matplotlib.pyplot as plt\n",
    "import pandas as pd\n",
    "import sklearn\n",
    "from sklearn.datasets import load_iris\n",
    "from sklearn.model_selection import train_test_split\n",
    "from sklearn.linear_model import LinearRegression, LogisticRegression\n",
    "from sklearn.metrics import mean_squared_error\n"
   ]
  },
  {
   "cell_type": "code",
   "execution_count": 7,
   "metadata": {},
   "outputs": [],
   "source": [
    "'''\n",
    "Készíts egy függvényt, betölti majd vissza adja az iris adathalmazt.\n",
    "\n",
    "\n",
    "Egy példa a kimenetre: iris\n",
    "return type: sklearn.utils.Bunch\n",
    "függvény neve: load_iris_data\n",
    "'''\n",
    "def load_iris_data() -> sklearn.utils.Bunch:\n",
    "    iris = load_iris()\n",
    "    return iris\n"
   ]
  },
  {
   "cell_type": "code",
   "execution_count": null,
   "metadata": {},
   "outputs": [],
   "source": []
  },
  {
   "cell_type": "code",
   "execution_count": 3,
   "metadata": {},
   "outputs": [
    {
     "data": {
      "text/plain": [
       "'\\nKészíts egy függvényt, ami a betölti az virágokhoz tartozó levél méretket egy dataframebe, majd az első 5 sort visszaadja.\\nMinden oszlop tartalmazza, hogy az milyen mérethez tartozik.\\n\\nEgy példa a bemenetre: iris\\nEgy példa a kimenetre: iris_df\\nreturn type: pandas.core.frame.DataFrame\\nfüggvény neve: check_data\\n'"
      ]
     },
     "execution_count": 3,
     "metadata": {},
     "output_type": "execute_result"
    }
   ],
   "source": [
    "'''\n",
    "Készíts egy függvényt, ami a betölti az virágokhoz tartozó levél méretket egy dataframebe, majd az első 5 sort visszaadja.\n",
    "Minden oszlop tartalmazza, hogy az milyen mérethez tartozik.\n",
    "\n",
    "Egy példa a bemenetre: iris\n",
    "Egy példa a kimenetre: iris_df\n",
    "return type: pandas.core.frame.DataFrame\n",
    "függvény neve: check_data\n",
    "'''"
   ]
  },
  {
   "cell_type": "code",
   "execution_count": 4,
   "metadata": {},
   "outputs": [],
   "source": [
    "\n",
    "def check_data(iris:sklearn.utils.Bunch)-> pd.core.frame.DataFrame:\n",
    "    df = pd.DataFrame(iris.data, columns=iris.feature_names) \n",
    "    return df.head(5)"
   ]
  },
  {
   "cell_type": "code",
   "execution_count": 5,
   "metadata": {},
   "outputs": [
    {
     "data": {
      "text/plain": [
       "' \\nKészíts egy függvényt ami előkészíti az adatokat egy lineaáris regressziós model feltanításához.\\nFeaturejeink legyenek a levél méretek kivéve a \"sepal length (cm)\", ez legyen a targetünk.\\n\\nEgy példa a bemenetre: iris\\nEgy példa a kimenetre: X, y\\nreturn type: (numpy.ndarray, numpy.ndarray)\\n'"
      ]
     },
     "execution_count": 5,
     "metadata": {},
     "output_type": "execute_result"
    }
   ],
   "source": [
    "''' \n",
    "Készíts egy függvényt ami előkészíti az adatokat egy lineaáris regressziós model feltanításához.\n",
    "Featurejeink legyenek a levél méretek kivéve a \"sepal length (cm)\", ez legyen a targetünk.\n",
    "\n",
    "Egy példa a bemenetre: iris\n",
    "Egy példa a kimenetre: X, y\n",
    "return type: (numpy.ndarray, numpy.ndarray)\n",
    "'''"
   ]
  },
  {
   "cell_type": "code",
   "execution_count": 11,
   "metadata": {},
   "outputs": [],
   "source": [
    "from typing import Tuple\n",
    "\n",
    "def felkeszites(iris)-> Tuple[np.ndarray,np.ndarray] :\n",
    "    df = pd.DataFrame(iris.data, columns=iris.feature_names)\n",
    "    X = df[['sepal width (cm)', 'petal length (cm)', 'petal width (cm)']].values\n",
    "    y = df['sepal length (cm)'].values\n",
    "    return X, y"
   ]
  },
  {
   "cell_type": "code",
   "execution_count": 6,
   "metadata": {},
   "outputs": [
    {
     "data": {
      "text/plain": [
       "' \\nKészíts egy függvényt ami előkészíti az adatokat egy logisztikus regressziós model feltanításához.\\nFeaturejeink legyenek a levél méretek, targetünk pedig a 0, 1-es virág osztályok.\\nFontos csak azokkal az adatokkal tanítsunk amihez tartozik adott target. \\n\\nEgy példa a bemenetre: iris\\nEgy példa a kimenetre: X, y\\nreturn type: (numpy.ndarray, numpy.ndarray)\\n'"
      ]
     },
     "execution_count": 6,
     "metadata": {},
     "output_type": "execute_result"
    }
   ],
   "source": [
    "''' \n",
    "Készíts egy függvényt ami előkészíti az adatokat egy logisztikus regressziós model feltanításához.\n",
    "Featurejeink legyenek a levél méretek, targetünk pedig a 0, 1-es virág osztályok.\n",
    "Fontos csak azokkal az adatokkal tanítsunk amihez tartozik adott target. \n",
    "\n",
    "Egy példa a bemenetre: iris\n",
    "Egy példa a kimenetre: X, y\n",
    "return type: (numpy.ndarray, numpy.ndarray)\n",
    "'''"
   ]
  },
  {
   "cell_type": "code",
   "execution_count": null,
   "metadata": {},
   "outputs": [],
   "source": [
    "def elokeszit(iris)->Tuple[np.ndarray,np.ndarray]:\n",
    "    df = pd.DataFrame(iris.data, columns=iris.feature_names)\n",
    "    X = df.loc[np.where(iris.target < 2)].values\n",
    "    y = iris.target[np.where(iris.target < 2)]\n",
    "    return X,y\n"
   ]
  },
  {
   "cell_type": "code",
   "execution_count": 7,
   "metadata": {},
   "outputs": [
    {
     "data": {
      "text/plain": [
       "'\\nKészíts egy függvényt ami feldarabolja az adatainkat train és test részre. Az adatok 20%-át használjuk fel a teszteléshez.\\nTegyük determenisztikussá a darabolást, ennek értéke legyen 42.\\n\\nEgy példa a bemenetre: X, y\\nEgy példa a kimenetre: X_train, X_test, y_train, y_test\\nreturn type: (numpy.ndarray, numpy.ndarray, numpy.ndarray, numpy.ndarray)\\n'"
      ]
     },
     "execution_count": 7,
     "metadata": {},
     "output_type": "execute_result"
    }
   ],
   "source": [
    "'''\n",
    "Készíts egy függvényt ami feldarabolja az adatainkat train és test részre. Az adatok 20%-át használjuk fel a teszteléshez.\n",
    "Tegyük determenisztikussá a darabolást, ennek értéke legyen 42.\n",
    "\n",
    "Egy példa a bemenetre: X, y\n",
    "Egy példa a kimenetre: X_train, X_test, y_train, y_test\n",
    "return type: (numpy.ndarray, numpy.ndarray, numpy.ndarray, numpy.ndarray)\n",
    "'''"
   ]
  },
  {
   "cell_type": "code",
   "execution_count": null,
   "metadata": {},
   "outputs": [],
   "source": []
  },
  {
   "cell_type": "code",
   "execution_count": 8,
   "metadata": {},
   "outputs": [
    {
     "data": {
      "text/plain": [
       "'\\nKészíts egy függvényt ami feltanít egy lineaáris regressziós modelt, majd visszatér vele.\\n\\nEgy példa a bemenetre: X_train, y_train\\nEgy példa a kimenetre: model\\nreturn type: sklearn.linear_model._base.LinearRegression\\n'"
      ]
     },
     "execution_count": 8,
     "metadata": {},
     "output_type": "execute_result"
    }
   ],
   "source": [
    "'''\n",
    "Készíts egy függvényt ami feltanít egy lineaáris regressziós modelt, majd visszatér vele.\n",
    "\n",
    "Egy példa a bemenetre: X_train, y_train\n",
    "Egy példa a kimenetre: model\n",
    "return type: sklearn.linear_model._base.LinearRegression\n",
    "'''"
   ]
  },
  {
   "cell_type": "code",
   "execution_count": null,
   "metadata": {},
   "outputs": [],
   "source": []
  },
  {
   "cell_type": "code",
   "execution_count": 9,
   "metadata": {},
   "outputs": [
    {
     "data": {
      "text/plain": [
       "'\\nKészíts egy függvényt ami feltanít egy logisztikus regressziós modelt, majd visszatér vele.\\n\\nEgy példa a bemenetre: X_train, y_train\\nEgy példa a kimenetre: model\\nreturn type: sklearn.linear_model._base.LogisticRegression\\n'"
      ]
     },
     "execution_count": 9,
     "metadata": {},
     "output_type": "execute_result"
    }
   ],
   "source": [
    "'''\n",
    "Készíts egy függvényt ami feltanít egy logisztikus regressziós modelt, majd visszatér vele.\n",
    "\n",
    "Egy példa a bemenetre: X_train, y_train\n",
    "Egy példa a kimenetre: model\n",
    "return type: sklearn.linear_model._base.LogisticRegression\n",
    "'''"
   ]
  },
  {
   "cell_type": "code",
   "execution_count": null,
   "metadata": {},
   "outputs": [],
   "source": []
  },
  {
   "cell_type": "code",
   "execution_count": 10,
   "metadata": {},
   "outputs": [
    {
     "data": {
      "text/plain": [
       "' \\nKészíts egy függvényt, ami a feltanított modellel predikciót tud végre hajtani.\\n\\nEgy példa a bemenetre: model, X_test\\nEgy példa a kimenetre: y_pred\\nreturn type: numpy.ndarray\\n'"
      ]
     },
     "execution_count": 10,
     "metadata": {},
     "output_type": "execute_result"
    }
   ],
   "source": [
    "''' \n",
    "Készíts egy függvényt, ami a feltanított modellel predikciót tud végre hajtani.\n",
    "\n",
    "Egy példa a bemenetre: model, X_test\n",
    "Egy példa a kimenetre: y_pred\n",
    "return type: numpy.ndarray\n",
    "'''"
   ]
  },
  {
   "cell_type": "code",
   "execution_count": null,
   "metadata": {},
   "outputs": [],
   "source": []
  },
  {
   "cell_type": "code",
   "execution_count": 11,
   "metadata": {},
   "outputs": [
    {
     "data": {
      "text/plain": [
       "\"\\nKészíts egy függvényt, ami vizualizálni tudja a label és a predikciók közötti eltérést.\\nHasználj scatter plotot a diagram elkészítéséhez.\\n\\nDiagram címe legyen: 'Actual vs Predicted Target Values'\\nAz x tengely címe legyen: 'Actual'\\nAz y tengely címe legyen: 'Predicted'\\n\\nEgy példa a bemenetre: y_test, y_pred\\nEgy példa a kimenetre: scatter plot\\nreturn type: matplotlib.figure.Figure\\n\""
      ]
     },
     "execution_count": 11,
     "metadata": {},
     "output_type": "execute_result"
    }
   ],
   "source": [
    "'''\n",
    "Készíts egy függvényt, ami vizualizálni tudja a label és a predikciók közötti eltérést.\n",
    "Használj scatter plotot a diagram elkészítéséhez.\n",
    "\n",
    "Diagram címe legyen: 'Actual vs Predicted Target Values'\n",
    "Az x tengely címe legyen: 'Actual'\n",
    "Az y tengely címe legyen: 'Predicted'\n",
    "\n",
    "Egy példa a bemenetre: y_test, y_pred\n",
    "Egy példa a kimenetre: scatter plot\n",
    "return type: matplotlib.figure.Figure\n",
    "'''"
   ]
  },
  {
   "cell_type": "code",
   "execution_count": null,
   "metadata": {},
   "outputs": [],
   "source": []
  },
  {
   "cell_type": "code",
   "execution_count": 12,
   "metadata": {},
   "outputs": [
    {
     "data": {
      "text/plain": [
       "' \\nKészíts egy függvényt, ami a Négyzetes hiba (MSE) értékét számolja ki a predikciók és a valós értékek között.\\n\\nEgy példa a bemenetre: y_test, y_pred\\nEgy példa a kimenetre: mse\\nreturn type: float\\n'"
      ]
     },
     "execution_count": 12,
     "metadata": {},
     "output_type": "execute_result"
    }
   ],
   "source": [
    "''' \n",
    "Készíts egy függvényt, ami a Négyzetes hiba (MSE) értékét számolja ki a predikciók és a valós értékek között.\n",
    "\n",
    "Egy példa a bemenetre: y_test, y_pred\n",
    "Egy példa a kimenetre: mse\n",
    "return type: float\n",
    "'''"
   ]
  },
  {
   "cell_type": "code",
   "execution_count": null,
   "metadata": {},
   "outputs": [],
   "source": []
  }
 ],
 "metadata": {
  "kernelspec": {
   "display_name": "Python 3",
   "language": "python",
   "name": "python3"
  },
  "language_info": {
   "codemirror_mode": {
    "name": "ipython",
    "version": 3
   },
   "file_extension": ".py",
   "mimetype": "text/x-python",
   "name": "python",
   "nbconvert_exporter": "python",
   "pygments_lexer": "ipython3",
   "version": "3.11.3"
  },
  "orig_nbformat": 4
 },
 "nbformat": 4,
 "nbformat_minor": 2
}
